{
 "cells": [
  {
   "cell_type": "markdown",
   "metadata": {},
   "source": [
    "## Generate hyperparams config files"
   ]
  },
  {
   "cell_type": "code",
   "execution_count": 1,
   "metadata": {},
   "outputs": [
    {
     "name": "stdout",
     "output_type": "stream",
     "text": [
      "Generated config: conf_gru_2_1_1.yaml\n",
      "Generated config: conf_gru_2_1_4.yaml\n",
      "Generated config: conf_gru_2_2_1.yaml\n",
      "Generated config: conf_gru_2_2_4.yaml\n",
      "Generated config: conf_gru_2_3_1.yaml\n",
      "Generated config: conf_gru_2_3_4.yaml\n",
      "Generated config: conf_gru_2_4_1.yaml\n",
      "Generated config: conf_gru_2_4_4.yaml\n",
      "Generated config: conf_gru_2_5_1.yaml\n",
      "Generated config: conf_gru_2_5_4.yaml\n",
      "Generated config: conf_gru_2_6_1.yaml\n",
      "Generated config: conf_gru_2_6_4.yaml\n"
     ]
    }
   ],
   "source": [
    "import yaml\n",
    "\n",
    "def generate_config(batch_num, param_to_change, param_values, k_folds, base_file_name):\n",
    "    config_template = {\n",
    "        'logging': {\n",
    "            'experiment_name': '',\n",
    "            'notes': f'Experiment from batch {batch_num}'\n",
    "        },\n",
    "        'model': {\n",
    "            'input_size': 13,\n",
    "            'output_size': 1,\n",
    "            'num_gru_layers': 2,\n",
    "            'hidden_channels': 16,\n",
    "            'dropout': 0.0\n",
    "        },\n",
    "        'training': {\n",
    "            'batch_size': 32,\n",
    "            'num_epochs': 100,\n",
    "            'learning_rate': 0.0001,\n",
    "            'weight_decay': 0.0001,\n",
    "            'augumentation_rate': 0.0\n",
    "        },\n",
    "        'data': {\n",
    "            'time_steps': 100,\n",
    "            'prediction_window': 10,\n",
    "            'k_fold': 1\n",
    "        }\n",
    "    }\n",
    "\n",
    "    for idx, value in enumerate(param_values):\n",
    "        for k_fold in k_folds:\n",
    "            # Update experiment name and k_fold\n",
    "            experiment_name = f'{batch_num}_{idx + 1}_{k_fold}'\n",
    "            config_template['logging']['experiment_name'] = f'gru_{experiment_name}'\n",
    "            config_template['data']['k_fold'] = k_fold\n",
    "            \n",
    "            # Update the specified hyperparameter with the new value\n",
    "            keys = param_to_change.split('.')\n",
    "            config_section = config_template\n",
    "            for key in keys[:-1]:\n",
    "                config_section = config_section[key]\n",
    "            config_section[keys[-1]] = value\n",
    "            \n",
    "            # Generate YAML file\n",
    "            file_name = f\"{base_file_name}_{experiment_name}.yaml\"\n",
    "            with open(file_name, 'w') as file:\n",
    "                yaml.dump(config_template, file, default_flow_style=False)\n",
    "            \n",
    "            print(f\"Generated config: {file_name}\")\n",
    "\n",
    "# Example usage\n",
    "param_to_change = 'training.learning_rate'\n",
    "param_values = [0.00005, 0.00003, 0.00001, 0.000005, 0.000003, 0.000001]\n",
    "generate_config(batch_num=2, param_to_change=param_to_change, param_values=param_values, k_folds=[1, 4], base_file_name='conf_gru')\n"
   ]
  },
  {
   "cell_type": "code",
   "execution_count": null,
   "metadata": {},
   "outputs": [],
   "source": []
  }
 ],
 "metadata": {
  "kernelspec": {
   "display_name": ".venv",
   "language": "python",
   "name": "python3"
  },
  "language_info": {
   "codemirror_mode": {
    "name": "ipython",
    "version": 3
   },
   "file_extension": ".py",
   "mimetype": "text/x-python",
   "name": "python",
   "nbconvert_exporter": "python",
   "pygments_lexer": "ipython3",
   "version": "3.9.13"
  }
 },
 "nbformat": 4,
 "nbformat_minor": 2
}
