{
 "cells": [
  {
   "cell_type": "code",
   "execution_count": 1,
   "metadata": {},
   "outputs": [],
   "source": [
    "import os"
   ]
  },
  {
   "cell_type": "code",
   "execution_count": 2,
   "metadata": {},
   "outputs": [],
   "source": [
    "from extractDataSrc.Mdi import Mdi\n",
    "from extractDataSrc.Lasco import Lasco\n",
    "from extractDataSrc.InSitu import InSitu"
   ]
  },
  {
   "cell_type": "code",
   "execution_count": 3,
   "metadata": {},
   "outputs": [],
   "source": [
    "# check if destination folders for images are present\n",
    "destination_folders = [\"data_processed/eit\", \"data_processed/mdi/mag\", \"data_processed/mdi/con\" ,\"data_processed/lasco/c2\", \"data_processed/lasco/c3\", \"data_processed/in_situ\"]\n",
    "\n",
    "for folder in destination_folders:\n",
    "    os.makedirs(folder, exist_ok=True)"
   ]
  },
  {
   "cell_type": "code",
   "execution_count": 4,
   "metadata": {},
   "outputs": [],
   "source": [
    "start_datetime = \"2003-03-21 00:00:00\"\n",
    "stop_datetime = \"2003-04-10 23:59:59\""
   ]
  },
  {
   "attachments": {},
   "cell_type": "markdown",
   "metadata": {},
   "source": [
    "### Extracting SOHO/MDI magnetograms and continuum"
   ]
  },
  {
   "cell_type": "code",
   "execution_count": 7,
   "metadata": {},
   "outputs": [],
   "source": [
    "mdi = Mdi(start_datetime, stop_datetime)\n",
    "# mdi.extract_data(\"mag\")\n",
    "# mdi.extract_data(\"con\")\n",
    "# works! :)"
   ]
  },
  {
   "attachments": {},
   "cell_type": "markdown",
   "metadata": {},
   "source": [
    "### Extracting SOHO/Lasco c2 and c3 images"
   ]
  },
  {
   "cell_type": "code",
   "execution_count": 7,
   "metadata": {},
   "outputs": [],
   "source": [
    "lasco = Lasco(start_datetime, stop_datetime)\n",
    "#lasco.extract_data(\"c2\")\n",
    "#lasco.extract_data(\"c3\")\n",
    "# works! :)"
   ]
  },
  {
   "attachments": {},
   "cell_type": "markdown",
   "metadata": {},
   "source": [
    "### Extracting SOHO/V_p, N_p and WIND/B_z time-series data"
   ]
  },
  {
   "cell_type": "code",
   "execution_count": 5,
   "metadata": {},
   "outputs": [],
   "source": [
    "insitu = InSitu(start_datetime, stop_datetime)\n",
    "# insitu.extract_data(\"V_p\", make_png=True)\n",
    "# insitu.extract_data(\"N_p\", make_png=True)\n",
    "# insitu.extract_data(\"B_z\", make_png=True)\n",
    "# works! :)"
   ]
  },
  {
   "cell_type": "code",
   "execution_count": null,
   "metadata": {},
   "outputs": [],
   "source": []
  }
 ],
 "metadata": {
  "kernelspec": {
   "display_name": ".venv",
   "language": "python",
   "name": "python3"
  },
  "language_info": {
   "codemirror_mode": {
    "name": "ipython",
    "version": 3
   },
   "file_extension": ".py",
   "mimetype": "text/x-python",
   "name": "python",
   "nbconvert_exporter": "python",
   "pygments_lexer": "ipython3",
   "version": "3.9.13"
  },
  "orig_nbformat": 4
 },
 "nbformat": 4,
 "nbformat_minor": 2
}
