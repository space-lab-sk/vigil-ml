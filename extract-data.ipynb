{
 "cells": [
  {
   "cell_type": "code",
   "execution_count": 1,
   "metadata": {},
   "outputs": [],
   "source": [
    "import os"
   ]
  },
  {
   "cell_type": "code",
   "execution_count": 2,
   "metadata": {},
   "outputs": [
    {
     "name": "stderr",
     "output_type": "stream",
     "text": [
      "/Users/majirky/Desktop/Vigil-ML/vigil-dev/vigil-ml/.venv/lib/python3.9/site-packages/tqdm/auto.py:21: TqdmWarning: IProgress not found. Please update jupyter and ipywidgets. See https://ipywidgets.readthedocs.io/en/stable/user_install.html\n",
      "  from .autonotebook import tqdm as notebook_tqdm\n"
     ]
    }
   ],
   "source": [
    "from extractDataSrc.Mdi import Mdi\n",
    "from extractDataSrc.Lasco import Lasco\n",
    "from extractDataSrc.InSitu import InSitu\n",
    "from extractDataSrc.Eit195 import Eit195"
   ]
  },
  {
   "cell_type": "code",
   "execution_count": 3,
   "metadata": {},
   "outputs": [],
   "source": [
    "# check if destination folders for images are present\n",
    "destination_folders = [\"data_processed/eit\", \"data_processed/mdi/mag\", \"data_processed/mdi/con\" ,\"data_processed/lasco/c2\", \"data_processed/lasco/c3\", \"data_processed/in_situ\"]\n",
    "\n",
    "for folder in destination_folders:\n",
    "    os.makedirs(folder, exist_ok=True)"
   ]
  },
  {
   "cell_type": "code",
   "execution_count": 4,
   "metadata": {},
   "outputs": [],
   "source": [
    "helper_folders = [\"data_csv\", \"data_fits/eit\"]\n",
    "\n",
    "for folder in destination_folders:\n",
    "    os.makedirs(folder, exist_ok=True)"
   ]
  },
  {
   "cell_type": "code",
   "execution_count": 6,
   "metadata": {},
   "outputs": [],
   "source": [
    "start_datetime = \"2001-03-21 00:00:00\"\n",
    "stop_datetime = \"2001-04-10 23:59:59\""
   ]
  },
  {
   "attachments": {},
   "cell_type": "markdown",
   "metadata": {},
   "source": [
    "### Extracting SOHO/MDI magnetograms and continuum"
   ]
  },
  {
   "cell_type": "code",
   "execution_count": 6,
   "metadata": {},
   "outputs": [],
   "source": [
    "mdi = Mdi(start_datetime, stop_datetime)\n",
    "# mdi.extract_data(\"mag\")\n",
    "# works! :)"
   ]
  },
  {
   "cell_type": "code",
   "execution_count": 7,
   "metadata": {},
   "outputs": [],
   "source": [
    "#mdi.extract_data(\"con\")"
   ]
  },
  {
   "attachments": {},
   "cell_type": "markdown",
   "metadata": {},
   "source": [
    "### Extracting SOHO/Lasco c2 and c3 images"
   ]
  },
  {
   "cell_type": "code",
   "execution_count": 8,
   "metadata": {},
   "outputs": [],
   "source": [
    "lasco = Lasco(start_datetime, stop_datetime)\n",
    "# works! :)"
   ]
  },
  {
   "cell_type": "code",
   "execution_count": 9,
   "metadata": {},
   "outputs": [
    {
     "name": "stdout",
     "output_type": "stream",
     "text": [
      "1311 / 1311\n",
      "success\n"
     ]
    }
   ],
   "source": [
    "lasco.extract_data(\"c2\")"
   ]
  },
  {
   "cell_type": "code",
   "execution_count": 10,
   "metadata": {},
   "outputs": [
    {
     "name": "stdout",
     "output_type": "stream",
     "text": [
      "859 / 859\n",
      "success\n"
     ]
    }
   ],
   "source": [
    "lasco.extract_data(\"c3\")"
   ]
  },
  {
   "attachments": {},
   "cell_type": "markdown",
   "metadata": {},
   "source": [
    "### Extracting SOHO/V_p, N_p and WIND/B_z time-series data"
   ]
  },
  {
   "cell_type": "code",
   "execution_count": 8,
   "metadata": {},
   "outputs": [],
   "source": [
    "insitu = InSitu(start_datetime, stop_datetime)\n",
    "insitu.extract_data(\"V_p\", make_png=True)\n",
    "insitu.extract_data(\"N_p\", make_png=True)\n",
    "insitu.extract_data(\"B_z\", make_png=True)\n",
    "# works! :)"
   ]
  },
  {
   "attachments": {},
   "cell_type": "markdown",
   "metadata": {},
   "source": [
    "### Extracting SOHO/EIT 195 images via VSO links to images"
   ]
  },
  {
   "cell_type": "code",
   "execution_count": 7,
   "metadata": {},
   "outputs": [
    {
     "name": "stdout",
     "output_type": "stream",
     "text": [
      "transforming and asving image... 2298\n"
     ]
    }
   ],
   "source": [
    "eit195 = Eit195(start_datetime, stop_datetime)\n",
    "eit195.extract_data(\"data_csv/eit_event1.csv\", quality_check=True)"
   ]
  },
  {
   "cell_type": "code",
   "execution_count": null,
   "metadata": {},
   "outputs": [],
   "source": []
  }
 ],
 "metadata": {
  "kernelspec": {
   "display_name": ".venv",
   "language": "python",
   "name": "python3"
  },
  "language_info": {
   "codemirror_mode": {
    "name": "ipython",
    "version": 3
   },
   "file_extension": ".py",
   "mimetype": "text/x-python",
   "name": "python",
   "nbconvert_exporter": "python",
   "pygments_lexer": "ipython3",
   "version": "3.9.13"
  },
  "orig_nbformat": 4
 },
 "nbformat": 4,
 "nbformat_minor": 2
}
