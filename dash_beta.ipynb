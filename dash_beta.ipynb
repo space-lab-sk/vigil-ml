{
 "cells": [
  {
   "cell_type": "markdown",
   "id": "fe5c857f-68c0-4e32-9e0e-21b26195d7d1",
   "metadata": {},
   "source": [
    "# Import knižníc"
   ]
  },
  {
   "cell_type": "code",
   "execution_count": 1,
   "id": "88b6f4ae-7257-4919-ad73-082de9f62348",
   "metadata": {},
   "outputs": [],
   "source": [
    "import pandas as pd\n",
    "import numpy as np\n",
    "\n",
    "from PIL import Image\n",
    "import cv2\n",
    "import glob \n",
    "\n",
    "import matplotlib.pyplot as plt\n",
    "from matplotlib.ticker import (MultipleLocator, AutoMinorLocator)\n",
    "from matplotlib.colors import LightSource\n",
    "from matplotlib import cbook, cm\n",
    "from matplotlib.ticker import PercentFormatter\n",
    "\n",
    "import threading\n",
    "from multiprocessing import Process"
   ]
  },
  {
   "cell_type": "markdown",
   "id": "b2f69b52-4bbb-4a41-bd10-debe9bfdf22e",
   "metadata": {},
   "source": [
    "# Všemožné prevádzačky a matematiky na dátumoch"
   ]
  },
  {
   "cell_type": "code",
   "execution_count": 2,
   "id": "a899c594-feef-4883-96be-aa8e8ea42d15",
   "metadata": {},
   "outputs": [],
   "source": [
    "def inp_to_date(year, month, day, hour, minute):\n",
    "    year, month, day, hour, minute = str(year).zfill(4), str(month).zfill(2), str(day).zfill(2), str(hour).zfill(2), str(minute).zfill(2)\n",
    "    return np.datetime64(f\"{year}-{month}-{day}T{hour}:{minute}\", \"s\")"
   ]
  },
  {
   "cell_type": "code",
   "execution_count": 3,
   "id": "0aa6c172-da11-42ee-a24c-bd57f146979a",
   "metadata": {},
   "outputs": [],
   "source": [
    "def inp_to_img(year, month, day, hour, minute):\n",
    "    year, month, day, hour, minute = str(year).zfill(4), str(month).zfill(2), str(day).zfill(2), str(hour).zfill(2), str(minute).zfill(2)\n",
    "    return f\"{year}{month}{day}_{hour}{minute}\""
   ]
  },
  {
   "cell_type": "code",
   "execution_count": 4,
   "id": "6dfe1211-d2f1-4f78-865f-28f29ebb86b7",
   "metadata": {},
   "outputs": [],
   "source": [
    "def img_to_date(date):\n",
    "    year, month, day, hour, minute = date[0:4], date[4:6], date[6:8], date[9:11], date[11:13]\n",
    "    return np.datetime64(f\"{year}-{month}-{day}T{hour}:{minute}\", \"s\")"
   ]
  },
  {
   "cell_type": "code",
   "execution_count": 5,
   "id": "19156dca-52d0-4ac5-a8cb-e857dbec2f39",
   "metadata": {},
   "outputs": [],
   "source": [
    "def img_to_plot(date):\n",
    "    year, month, day, hour, minute = date[0:4], date[4:6], date[6:8], date[9:11], date[11:13]\n",
    "    return f\"{year}-{month}-{day} {hour}:{minute}\""
   ]
  },
  {
   "cell_type": "code",
   "execution_count": 6,
   "id": "8edd3a2b-32e2-4a06-82f1-1663d5541a9f",
   "metadata": {},
   "outputs": [],
   "source": [
    "def date_to_img(date):\n",
    "    temp = np.datetime_as_string(date)\n",
    "    year, month, day, hour, minute = temp[0:4], temp[5:7], temp[8:10], temp[11:13], temp[14:16]\n",
    "    return f\"{year}{month}{day}_{hour}{minute}\""
   ]
  },
  {
   "cell_type": "code",
   "execution_count": 7,
   "id": "c2c3da5b-dc4b-4dbe-abd3-b4e17901bf20",
   "metadata": {},
   "outputs": [],
   "source": [
    "def dif_time(date1, date2):\n",
    "    return np.abs((date1 - date2)).astype(int) #.item().total_seconds()) "
   ]
  },
  {
   "cell_type": "code",
   "execution_count": 8,
   "id": "1fce6483-c483-4390-867c-5d98e690f034",
   "metadata": {},
   "outputs": [],
   "source": [
    "def dash_core(item_date):\n",
    "    item_date = np.datetime_as_string(item_date)\n",
    "    year, month, day, hour, minute = item_date[0:4], item_date[5:7], item_date[8:10], item_date[11:13], item_date[14:16]\n",
    "\n",
    "    date = inp_to_date(year, month, day, hour, minute)\n",
    "    start_of_day = inp_to_date(year, month, day, 0, 0) - np.timedelta64(10, 'D')\n",
    "    end_of_day = inp_to_date(year, month, day, 0, 0) + np.timedelta64(10, 'D')\n",
    "\n",
    "    eit_index = np.argmin(dif_time(date, eit_list))\n",
    "    LC2_index = np.argmin(dif_time(date, LC2_list))\n",
    "    mag_index = np.argmin(dif_time(date, mag_list))\n",
    "\n",
    "    eit_date = date_to_img(eit_list[eit_index])\n",
    "    LC2_date = date_to_img(LC2_list[LC2_index])\n",
    "    mag_date = date_to_img(mag_list[mag_index])\n",
    "    \n",
    "    N_p_index = np.argmin(dif_time(date, np.array(N_p_list[\"Time\"])))\n",
    "    V_p_index = np.argmin(dif_time(date, np.array(V_p_list[\"Time\"])))\n",
    "    B_z_index = np.argmin(dif_time(date, np.array(B_z_list[\"Time\"])))\n",
    "    \n",
    "    eit_path = f\"{folder}/soho_eit195/{eit_date}_eit195_1024.png\"\n",
    "    LC2_path = f\"{folder}/soho_lasco/c2/{LC2_date}_lascoc2_1024.png\"\n",
    "    mag_path = f\"{folder}/soho_mdi/mag/{mag_date}_mdimag_1024.png\"\n",
    "    \n",
    "    mag_img = Image.open(mag_path).convert('1')\n",
    "    LC2_img = Image.open(LC2_path)\n",
    "    eit_img = Image.open(eit_path)\n",
    "    \n",
    "    plt.rcParams.update({'font.size': 8})\n",
    "    fig = plt.figure(figsize=(15, 10), layout='constrained', facecolor=\"black\", edgecolor='white')\n",
    "    axs = fig.subplot_mosaic([[\"IMG1\", \"IMG1\",\"IMG1\", \"IMG1\", \"IMG2\", \"IMG2\",\"IMG2\", \"IMG2\", \"IMG3\", \"IMG3\", \"IMG3\", \"IMG3\"],\n",
    "                              [\"IMG1\", \"IMG1\",\"IMG1\", \"IMG1\", \"IMG2\", \"IMG2\",\"IMG2\", \"IMG2\", \"IMG3\", \"IMG3\", \"IMG3\", \"IMG3\"],\n",
    "                              [\"IMG1\", \"IMG1\",\"IMG1\", \"IMG1\", \"IMG2\", \"IMG2\",\"IMG2\", \"IMG2\", \"IMG3\", \"IMG3\", \"IMG3\", \"IMG3\"],\n",
    "                              [\"IMG1\", \"IMG1\",\"IMG1\", \"IMG1\", \"IMG2\", \"IMG2\",\"IMG2\", \"IMG2\", \"IMG3\", \"IMG3\", \"IMG3\", \"IMG3\"],\n",
    "                              [\"SERIES1\", \"SERIES1\", \"SERIES1\", \"SERIES1\", \"SERIES1\", \"SERIES1\", \"SERIES1\", \"SERIES1\", \"SERIES1\", \"SERIES1\", \"SERIES1\", \"SERIES1\"],\n",
    "                              [\"SERIES2\", \"SERIES2\", \"SERIES2\", \"SERIES2\", \"SERIES2\", \"SERIES2\", \"SERIES2\", \"SERIES2\", \"SERIES2\", \"SERIES2\", \"SERIES2\", \"SERIES2\"],\n",
    "                              [\"SERIES3\", \"SERIES3\", \"SERIES3\", \"SERIES3\", \"SERIES3\", \"SERIES3\", \"SERIES3\", \"SERIES3\", \"SERIES3\", \"SERIES3\", \"SERIES3\", \"SERIES3\"]])\n",
    "    \n",
    "    \n",
    "    \n",
    "    axs[\"IMG1\"].imshow(mag_img)\n",
    "    axs[\"IMG2\"].imshow(eit_img)\n",
    "    axs[\"IMG3\"].imshow(LC2_img)\n",
    "    \n",
    "    for temp_img, temp_name in zip([\"IMG1\", \"IMG2\", \"IMG3\"], [str(img_to_plot(mag_date)), str(img_to_plot(eit_date)), str(img_to_plot(LC2_date))]):\n",
    "        axs[temp_img].spines['bottom'].set_color('white')\n",
    "        axs[temp_img].spines['top'].set_color('white')\n",
    "        axs[temp_img].spines['left'].set_color('white')\n",
    "        axs[temp_img].spines['right'].set_color('white')\n",
    "        axs[temp_img].locator_params(axis='y', nbins=10) \n",
    "        axs[temp_img].locator_params(axis='x', nbins=10) \n",
    "        axs[temp_img].xaxis.set_minor_locator(AutoMinorLocator(10))\n",
    "        axs[temp_img].yaxis.set_minor_locator(AutoMinorLocator(10))\n",
    "        axs[temp_img].tick_params(which='major', length=6, direction=\"inout\", colors=\"white\")\n",
    "        axs[temp_img].tick_params(which='minor', length=2, direction=\"in\", colors=\"white\") \n",
    "        axs[temp_img].set_title(temp_name, fontsize = 20)\n",
    "        axs[temp_img].xaxis.label.set_color('white')\n",
    "        axs[temp_img].yaxis.label.set_color('white')\n",
    "        axs[temp_img].tick_params(colors='white', which='both') \n",
    "        axs[temp_img].title.set_color('white')\n",
    "    \n",
    "    axs[\"SERIES1\"].plot(np.array(N_p_list.loc[N_p_list[\"Time\"].between(start_of_day, end_of_day)][\"Time\"]), N_p_list.loc[N_p_list[\"Time\"].between(start_of_day, end_of_day)][\"N_p\"], color=\"red\", marker=\".\", linestyle=\"\", markersize=1)\n",
    "    axs[\"SERIES2\"].plot(np.array(V_p_list.loc[V_p_list[\"Time\"].between(start_of_day, end_of_day)][\"Time\"]), V_p_list.loc[V_p_list[\"Time\"].between(start_of_day, end_of_day)][\"V_p\"], color=\"green\", marker=\".\", linestyle=\"\", markersize=1)\n",
    "    axs[\"SERIES3\"].plot(np.array(B_z_list.loc[B_z_list[\"Time\"].between(start_of_day, end_of_day)][\"Time\"]), B_z_list.loc[B_z_list[\"Time\"].between(start_of_day, end_of_day)][\"B_z\"], color=\"yellow\", marker=\".\", linestyle=\"\", markersize=1)\n",
    "    \n",
    "    for temp_series, temp_name in zip([\"SERIES1\", \"SERIES2\", \"SERIES3\"], [\"rho\", \"v\", \"Bz\"]):\n",
    "        axs[temp_series].spines['bottom'].set_color('white')\n",
    "        axs[temp_series].spines['top'].set_color('white')\n",
    "        axs[temp_series].spines['left'].set_color('white')\n",
    "        axs[temp_series].spines['right'].set_color('white')\n",
    "        axs[temp_series].set_facecolor('black')\n",
    "        axs[temp_series].locator_params(axis='y', nbins=5) \n",
    "        axs[temp_series].yaxis.set_minor_locator(AutoMinorLocator(5))\n",
    "        axs[temp_series].tick_params(which='major', length=6, direction=\"inout\", colors=\"white\")\n",
    "        axs[temp_series].tick_params(which='minor', length=2, direction=\"in\", colors=\"white\") \n",
    "        axs[temp_series].xaxis.label.set_color('white')\n",
    "        axs[temp_series].yaxis.label.set_color('white')\n",
    "        axs[temp_series].tick_params(colors='white', which='both') \n",
    "        axs[temp_series].title.set_color('white')\n",
    "    \n",
    "    axs['SERIES1'].set_ylabel(r'Density (cm$^{-3}$)')\n",
    "    axs['SERIES2'].set_ylabel(r'Speed (cm $\\cdot$ s$^{-1}$)')\n",
    "    axs['SERIES3'].set_ylabel(r'Bz (nT)')\n",
    "    \n",
    "    axs[\"SERIES3\"].set_xlabel('Date')\n",
    "    axs['SERIES2'].sharex(axs['SERIES1'])\n",
    "    axs['SERIES3'].sharex(axs['SERIES2'])\n",
    "    \n",
    "    axs[\"SERIES1\"].axvline(x=N_p_list.iloc[N_p_index][\"Time\"], color='white', ls='--')\n",
    "    axs[\"SERIES2\"].axvline(x=N_p_list.iloc[N_p_index][\"Time\"], color='white', ls='--')\n",
    "    axs[\"SERIES3\"].axvline(x=N_p_list.iloc[N_p_index][\"Time\"], color='white', ls='--')\n",
    "    \n",
    "    plt.savefig(\"Dash_\" + date_to_img(date) + \".png\", dpi=300, facecolor='black', edgecolor='black')\n",
    "    plt.close()\n",
    "    # plt.show()"
   ]
  },
  {
   "cell_type": "code",
   "execution_count": 14,
   "id": "28999d01-c78a-4f5e-af52-b776513e6296",
   "metadata": {},
   "outputs": [],
   "source": [
    "folder = \"2004-11-08\"\n",
    "csv_date = folder[0:4]+folder[5:7]+folder[8:10]\n",
    "\n",
    "eit_list = np.array([temp.split(\"\\\\\") for temp in glob.glob(f\"{folder}/soho_eit195/*\")])[::, 1]\n",
    "eit_list= [img_to_date(temp) for temp in eit_list]\n",
    "\n",
    "LC2_list = np.array([temp.split(\"\\\\\") for temp in glob.glob(f\"{folder}/soho_lasco/c2/*\")])[::, 1]\n",
    "LC2_list= [img_to_date(temp) for temp in LC2_list]\n",
    "\n",
    "mag_list = np.array([temp.split(\"\\\\\") for temp in glob.glob(f\"{folder}/soho_mdi/mag/*\")])[::, 1]\n",
    "mag_list= [img_to_date(temp) for temp in mag_list]\n",
    "\n",
    "path4 = f\"{folder}/in_situ/{csv_date}_soho_N_p.csv\"\n",
    "path5 = f\"{folder}/in_situ/{csv_date}_soho_V_p.csv\"\n",
    "path6 = f\"{folder}/in_situ/{csv_date}_wind_B_z.csv\"            \n",
    "\n",
    "N_p_list = pd.read_csv(path4).drop(columns=['Unnamed: 0'])\n",
    "V_p_list = pd.read_csv(path5).drop(columns=['Unnamed: 0'])\n",
    "B_z_list = pd.read_csv(path6).drop(columns=['Unnamed: 0'])\n",
    "\n",
    "N_p_list[\"Time\"] = np.array(N_p_list[\"Time\"]).astype(\"datetime64\")\n",
    "V_p_list[\"Time\"] = np.array(V_p_list[\"Time\"]).astype(\"datetime64\")\n",
    "B_z_list[\"Time\"] = np.array(B_z_list[\"Time\"]).astype(\"datetime64\")\n",
    "\n",
    "for item_date in np.arange(eit_list[0], eit_list[-1], dtype='datetime64[h]')[0:10]:\n",
    "    dash_core(item_date)\n"
   ]
  },
  {
   "cell_type": "raw",
   "id": "e62967e9-ace9-45ac-9e86-a27304254e5c",
   "metadata": {},
   "source": [
    "img_array = []\n",
    "for filename in glob.glob('*.png'):\n",
    "   img = cv2.imread(filename)\n",
    "   height, width, layers = img.shape\n",
    "   size = (width,height)\n",
    "   img_array.append(img)\n",
    "\n",
    "out = cv2.VideoWriter('video.avi', cv2.VideoWriter_fourcc(*'DIVX'), 10, size)\n",
    "\n",
    "for i in range(len(img_array)):\n",
    "   out.write(img_array[i])\n",
    "out.release()"
   ]
  },
  {
   "cell_type": "code",
   "execution_count": null,
   "id": "719e1eb5-d152-47d0-99e6-535f0da5099a",
   "metadata": {},
   "outputs": [],
   "source": []
  }
 ],
 "metadata": {
  "kernelspec": {
   "display_name": "Python 3 (ipykernel)",
   "language": "python",
   "name": "python3"
  },
  "language_info": {
   "codemirror_mode": {
    "name": "ipython",
    "version": 3
   },
   "file_extension": ".py",
   "mimetype": "text/x-python",
   "name": "python",
   "nbconvert_exporter": "python",
   "pygments_lexer": "ipython3",
   "version": "3.11.9"
  }
 },
 "nbformat": 4,
 "nbformat_minor": 5
}
